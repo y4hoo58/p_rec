{
 "cells": [
  {
   "cell_type": "code",
   "execution_count": 1,
   "metadata": {},
   "outputs": [],
   "source": [
    "import os\n",
    "import random\n",
    "import numpy as np\n",
    "import pandas as pd\n",
    "import matplotlib.pyplot as plt\n",
    "\n",
    "import tensorflow as tf\n",
    "from tensorflow import keras\n",
    "from sklearn.metrics.pairwise import euclidean_distances"
   ]
  },
  {
   "cell_type": "code",
   "execution_count": 2,
   "metadata": {},
   "outputs": [],
   "source": [
    "frames = np.load(\"frame_dataset.npy\")"
   ]
  },
  {
   "cell_type": "code",
   "execution_count": 3,
   "metadata": {},
   "outputs": [],
   "source": [
    "frames_train = frames[:100000]\n",
    "frames_test = frames[600000:610000]"
   ]
  },
  {
   "cell_type": "code",
   "execution_count": 4,
   "metadata": {},
   "outputs": [],
   "source": [
    "frames_train = np.nan_to_num(frames_train)\n",
    "frames_test = np.nan_to_num(frames_test)"
   ]
  },
  {
   "cell_type": "code",
   "execution_count": 5,
   "metadata": {},
   "outputs": [],
   "source": [
    "def conv_block(_input,_filters,_kernel,_pooling):\n",
    "    c  = keras.layers.Conv1D(_filters,kernel_size = _kernel,padding=\"same\",activation=\"relu\")(_input)\n",
    "    c  = keras.layers.Conv1D(_filters,kernel_size = _kernel,padding=\"same\",activation=\"relu\")(c)\n",
    "    m  = keras.layers.MaxPooling1D(_pooling)(c)\n",
    "    b  = keras.layers.BatchNormalization()(m)\n",
    "    return b"
   ]
  },
  {
   "cell_type": "code",
   "execution_count": 6,
   "metadata": {},
   "outputs": [],
   "source": [
    "def deconv_block(_input,_filters,_kernel,_strides,_pooling):\n",
    "    c = keras.layers.Conv1DTranspose(_filters,kernel_size = _kernel,strides = _strides,activation=\"relu\",padding=\"same\")(_input)\n",
    "    c = keras.layers.Conv1D(_filters,kernel_size = _kernel,padding=\"same\",activation=\"relu\")(c)\n",
    "    b = keras.layers.BatchNormalization()(c)\n",
    "    return b"
   ]
  },
  {
   "cell_type": "code",
   "execution_count": 14,
   "metadata": {},
   "outputs": [],
   "source": [
    "def create_autoencoder():\n",
    "    \n",
    "    i = keras.layers.Input(shape = (96,))\n",
    "    e = keras.layers.Reshape((96,1))(i)\n",
    "    \n",
    "    e = conv_block(_input = e,_filters = 8,_kernel = 3,_pooling = 2)\n",
    "    #  48 x 48 x 16\n",
    "\n",
    "    e = conv_block(_input = e,_filters = 16,_kernel = 3,_pooling = 2)\n",
    "    #  24 x 24 x 32\n",
    "\n",
    "    e = conv_block(_input = e,_filters = 32,_kernel = 3,_pooling = 2)    \n",
    "    #  12 x 12 x 64\n",
    "\n",
    "    e = conv_block(_input = e,_filters = 64,_kernel = 3,_pooling = 2)    \n",
    "    #  6 x 6 x 128\n",
    "\n",
    "    e = conv_block(_input = e,_filters = 64,_kernel = 3,_pooling = 2)    \n",
    "    #  3 x 3 x 256\n",
    "\n",
    "    e = keras.layers.Conv1D(16,kernel_size = 1,activation=\"tanh\")(e)\n",
    "\n",
    "    d = deconv_block(_input = e,_filters = 64 ,_kernel = 3,_strides = 2,_pooling = 2)\n",
    "    #  6 x 6 x 128\n",
    "\n",
    "    d = deconv_block(_input = d,_filters = 64 ,_kernel = 3,_strides = 2,_pooling = 2)\n",
    "    #  12 x 12 x 64\n",
    "\n",
    "    d = deconv_block(_input = d,_filters = 32 ,_kernel = 3,_strides = 2,_pooling = 2)\n",
    "    #  24 x 24 x 32\n",
    "\n",
    "    d = deconv_block(_input = d,_filters = 16 ,_kernel = 3,_strides = 2,_pooling = 2)\n",
    "    #  48 x 48 x 16\n",
    "\n",
    "    o = deconv_block(_input = d,_filters = 8 ,_kernel = 3,_strides = 2,_pooling = 2)\n",
    "    #  96 x 96 x 1\n",
    "\n",
    "    o = keras.layers.Conv1D(1, kernel_size = 1,activation=\"sigmoid\")(o)\n",
    "    \n",
    "    model = keras.models.Model(inputs = i, outputs = o)\n",
    "    model.compile(loss = keras.losses.binary_crossentropy,optimizer = keras.optimizers.Adam(1e-3))\n",
    "    return model"
   ]
  },
  {
   "cell_type": "code",
   "execution_count": 15,
   "metadata": {},
   "outputs": [
    {
     "name": "stdout",
     "output_type": "stream",
     "text": [
      "Model: \"model_1\"\n",
      "_________________________________________________________________\n",
      " Layer (type)                Output Shape              Param #   \n",
      "=================================================================\n",
      " input_2 (InputLayer)        [(None, 96)]              0         \n",
      "                                                                 \n",
      " reshape_1 (Reshape)         (None, 96, 1)             0         \n",
      "                                                                 \n",
      " conv1d_17 (Conv1D)          (None, 96, 8)             32        \n",
      "                                                                 \n",
      " conv1d_18 (Conv1D)          (None, 96, 8)             200       \n",
      "                                                                 \n",
      " max_pooling1d_5 (MaxPooling  (None, 48, 8)            0         \n",
      " 1D)                                                             \n",
      "                                                                 \n",
      " batch_normalization_10 (Bat  (None, 48, 8)            32        \n",
      " chNormalization)                                                \n",
      "                                                                 \n",
      " conv1d_19 (Conv1D)          (None, 48, 16)            400       \n",
      "                                                                 \n",
      " conv1d_20 (Conv1D)          (None, 48, 16)            784       \n",
      "                                                                 \n",
      " max_pooling1d_6 (MaxPooling  (None, 24, 16)           0         \n",
      " 1D)                                                             \n",
      "                                                                 \n",
      " batch_normalization_11 (Bat  (None, 24, 16)           64        \n",
      " chNormalization)                                                \n",
      "                                                                 \n",
      " conv1d_21 (Conv1D)          (None, 24, 32)            1568      \n",
      "                                                                 \n",
      " conv1d_22 (Conv1D)          (None, 24, 32)            3104      \n",
      "                                                                 \n",
      " max_pooling1d_7 (MaxPooling  (None, 12, 32)           0         \n",
      " 1D)                                                             \n",
      "                                                                 \n",
      " batch_normalization_12 (Bat  (None, 12, 32)           128       \n",
      " chNormalization)                                                \n",
      "                                                                 \n",
      " conv1d_23 (Conv1D)          (None, 12, 64)            6208      \n",
      "                                                                 \n",
      " conv1d_24 (Conv1D)          (None, 12, 64)            12352     \n",
      "                                                                 \n",
      " max_pooling1d_8 (MaxPooling  (None, 6, 64)            0         \n",
      " 1D)                                                             \n",
      "                                                                 \n",
      " batch_normalization_13 (Bat  (None, 6, 64)            256       \n",
      " chNormalization)                                                \n",
      "                                                                 \n",
      " conv1d_25 (Conv1D)          (None, 6, 64)             12352     \n",
      "                                                                 \n",
      " conv1d_26 (Conv1D)          (None, 6, 64)             12352     \n",
      "                                                                 \n",
      " max_pooling1d_9 (MaxPooling  (None, 3, 64)            0         \n",
      " 1D)                                                             \n",
      "                                                                 \n",
      " batch_normalization_14 (Bat  (None, 3, 64)            256       \n",
      " chNormalization)                                                \n",
      "                                                                 \n",
      " conv1d_27 (Conv1D)          (None, 3, 16)             1040      \n",
      "                                                                 \n",
      " conv1d_transpose_5 (Conv1DT  (None, 6, 64)            3136      \n",
      " ranspose)                                                       \n",
      "                                                                 \n",
      " conv1d_28 (Conv1D)          (None, 6, 64)             12352     \n",
      "                                                                 \n",
      " batch_normalization_15 (Bat  (None, 6, 64)            256       \n",
      " chNormalization)                                                \n",
      "                                                                 \n",
      " conv1d_transpose_6 (Conv1DT  (None, 12, 64)           12352     \n",
      " ranspose)                                                       \n",
      "                                                                 \n",
      " conv1d_29 (Conv1D)          (None, 12, 64)            12352     \n",
      "                                                                 \n",
      " batch_normalization_16 (Bat  (None, 12, 64)           256       \n",
      " chNormalization)                                                \n",
      "                                                                 \n",
      " conv1d_transpose_7 (Conv1DT  (None, 24, 32)           6176      \n",
      " ranspose)                                                       \n",
      "                                                                 \n",
      " conv1d_30 (Conv1D)          (None, 24, 32)            3104      \n",
      "                                                                 \n",
      " batch_normalization_17 (Bat  (None, 24, 32)           128       \n",
      " chNormalization)                                                \n",
      "                                                                 \n",
      " conv1d_transpose_8 (Conv1DT  (None, 48, 16)           1552      \n",
      " ranspose)                                                       \n",
      "                                                                 \n",
      " conv1d_31 (Conv1D)          (None, 48, 16)            784       \n",
      "                                                                 \n",
      " batch_normalization_18 (Bat  (None, 48, 16)           64        \n",
      " chNormalization)                                                \n",
      "                                                                 \n",
      " conv1d_transpose_9 (Conv1DT  (None, 96, 8)            392       \n",
      " ranspose)                                                       \n",
      "                                                                 \n",
      " conv1d_32 (Conv1D)          (None, 96, 8)             200       \n",
      "                                                                 \n",
      " batch_normalization_19 (Bat  (None, 96, 8)            32        \n",
      " chNormalization)                                                \n",
      "                                                                 \n",
      " conv1d_33 (Conv1D)          (None, 96, 1)             9         \n",
      "                                                                 \n",
      "=================================================================\n",
      "Total params: 104,273\n",
      "Trainable params: 103,537\n",
      "Non-trainable params: 736\n",
      "_________________________________________________________________\n"
     ]
    }
   ],
   "source": [
    "model = create_autoencoder()\n",
    "model.summary()"
   ]
  },
  {
   "cell_type": "code",
   "execution_count": 22,
   "metadata": {},
   "outputs": [
    {
     "name": "stdout",
     "output_type": "stream",
     "text": [
      "Epoch 1/5\n",
      "3125/3125 [==============================] - 39s 12ms/step - loss: 0.4537 - val_loss: 0.5255\n",
      "Epoch 2/5\n",
      "3125/3125 [==============================] - 38s 12ms/step - loss: 0.4529 - val_loss: 0.5391\n",
      "Epoch 3/5\n",
      "3125/3125 [==============================] - 39s 12ms/step - loss: 0.4528 - val_loss: 0.5277\n",
      "Epoch 4/5\n",
      "3125/3125 [==============================] - 38s 12ms/step - loss: 0.4519 - val_loss: 0.5265\n",
      "Epoch 5/5\n",
      "3125/3125 [==============================] - 38s 12ms/step - loss: 0.4516 - val_loss: 0.5245\n"
     ]
    },
    {
     "data": {
      "text/plain": [
       "<keras.callbacks.History at 0x30cee9c10>"
      ]
     },
     "execution_count": 22,
     "metadata": {},
     "output_type": "execute_result"
    }
   ],
   "source": [
    "model.fit(frames_train,frames_train,validation_data=(frames_test,frames_test),epochs=5,verbose = 1,shuffle = True)"
   ]
  },
  {
   "cell_type": "code",
   "execution_count": 23,
   "metadata": {},
   "outputs": [],
   "source": [
    "predictions = model.predict(frames_test)"
   ]
  },
  {
   "cell_type": "code",
   "execution_count": 25,
   "metadata": {},
   "outputs": [
    {
     "data": {
      "text/plain": [
       "[<matplotlib.lines.Line2D at 0x31aa003a0>]"
      ]
     },
     "execution_count": 25,
     "metadata": {},
     "output_type": "execute_result"
    },
    {
     "data": {
      "image/png": "[encoded data removed]",
      "text/plain": [
       "<Figure size 432x288 with 1 Axes>"
      ]
     },
     "metadata": {
      "needs_background": "light"
     },
     "output_type": "display_data"
    }
   ],
   "source": [
    "inn = random.randint(0,predictions.shape[0]-1)\n",
    "plt.plot(frames_test[inn])\n",
    "plt.plot(predictions[inn])"
   ]
  },
  {
   "cell_type": "code",
   "execution_count": 26,
   "metadata": {},
   "outputs": [
    {
     "name": "stdout",
     "output_type": "stream",
     "text": [
      "INFO:tensorflow:Assets written to: autoencoder/assets\n"
     ]
    }
   ],
   "source": [
    "model.save(\"autoencoder\")"
   ]
  },
  {
   "cell_type": "code",
   "execution_count": null,
   "metadata": {},
   "outputs": [],
   "source": []
  },
  {
   "cell_type": "code",
   "execution_count": null,
   "metadata": {},
   "outputs": [],
   "source": []
  }
 ],
 "metadata": {
  "kernelspec": {
   "display_name": "Python 3.8.8 ('base')",
   "language": "python",
   "name": "python3"
  },
  "language_info": {
   "codemirror_mode": {
    "name": "ipython",
    "version": 3
   },
   "file_extension": ".py",
   "mimetype": "text/x-python",
   "name": "python",
   "nbconvert_exporter": "python",
   "pygments_lexer": "ipython3",
   "version": "3.8.8"
  },
  "orig_nbformat": 4,
  "vscode": {
   "interpreter": {
    "hash": "bd11e0ed8ec2bd2c8e5a42fa306014a91d760c2d42e407c00759fcefdf89854d"
   }
  }
 },
 "nbformat": 4,
 "nbformat_minor": 2
}
