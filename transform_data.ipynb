{
 "cells": [
  {
   "cell_type": "code",
   "execution_count": 1,
   "metadata": {},
   "outputs": [],
   "source": [
    "import os\n",
    "import numpy as np\n",
    "import pandas as pd\n",
    "import matplotlib.pyplot as plt\n",
    "import tensorflow as tf"
   ]
  },
  {
   "cell_type": "code",
   "execution_count": 2,
   "metadata": {},
   "outputs": [],
   "source": [
    "# Set parameters\n",
    "CSV_PATH = os.getcwd()+\"/csv_data/\"\n",
    "\n",
    "FRAME_SIZES = [ 64 , 72 ,80, 96 ,104,112,120]\n",
    "\n",
    "IMG_HEIGHT = 96\n",
    "IMG_WIDTH = 96\n",
    "\n",
    "CSV_NAMES = os.listdir(CSV_PATH)\n",
    "\n",
    "FEATURE_PATH = os.getcwd()+\"/features_data/\"\n",
    "FRAME_PATH = os.getcwd()+\"/frame_data/\"\n",
    "IMG_PATH = os.getcwd()+\"/img_data/\""
   ]
  },
  {
   "cell_type": "code",
   "execution_count": 3,
   "metadata": {},
   "outputs": [],
   "source": [
    "# Batches a given time series input\n",
    "def _get_frames(_array,_frame_size,_stride,_re_size):\n",
    "\n",
    "    # Total num of frames\n",
    "    def _get_size(_array,_frame_size,_stride):\n",
    "        _counter = 0\n",
    "        for i in range(0,_array.shape[0]-_frame_size,_stride):\n",
    "            _counter = _counter+1\n",
    "        return _counter\n",
    "    \n",
    "    # Get the total num of frames\n",
    "    _size = _get_size(_array,_frame_size,_stride)\n",
    "    \n",
    "    # Create an empty array\n",
    "    _frame_array = np.zeros((_size,_re_size))\n",
    "\n",
    "    _counter = 0\n",
    "    for i in range(0,_array.shape[0]-_frame_size,_stride):\n",
    "        # Get the frame\n",
    "        _frame =  _array[i:i+_frame_size]\n",
    "        _frame = _frame.reshape(_frame.shape+(1,1))\n",
    "        _frame = tf.image.resize(_frame,(_re_size,1)).numpy()\n",
    "        _frame = _frame.squeeze()\n",
    "        \n",
    "        # Normalize and assign the frame to the empty array\n",
    "        _frame_array[_counter] = (1e-10+_frame-np.min(_frame))/(1e-10+np.max(_frame)-np.min(_frame))\n",
    "\n",
    "        # Holds the index\n",
    "        _counter = _counter +1\n",
    "    return _frame_array\n",
    "\n",
    "\n",
    "def get_all_frames(_csv_names,_csv_path,_frame_sizes,_stride = 0,_re_size =96):\n",
    "    _all_frames = []\n",
    "    for csv in _csv_names:\n",
    "        try:\n",
    "            # Get \"close\" prices of the candles\n",
    "            df = pd.read_csv(_csv_path+csv)\n",
    "            _close_arr = df[\"Close\"].values\n",
    "\n",
    "            for _frame_size in _frame_sizes:    \n",
    "                # If _stride is not given , use the _frame_size as the _stride\n",
    "                if _stride == 0:\n",
    "                    _frame = _get_frames(_close_arr,_frame_size,_frame_size,_re_size)\n",
    "                else:\n",
    "                    _frame = _get_frames(_close_arr,_frame_size,_stride,_re_size)\n",
    "                \n",
    "                _all_frames.append(_frame)\n",
    "        except:\n",
    "            pass\n",
    "    return _all_frames"
   ]
  },
  {
   "cell_type": "code",
   "execution_count": 4,
   "metadata": {},
   "outputs": [],
   "source": [
    "frame_data = get_all_frames(CSV_NAMES,CSV_PATH,FRAME_SIZES,_stride = 4)"
   ]
  },
  {
   "cell_type": "code",
   "execution_count": 11,
   "metadata": {},
   "outputs": [
    {
     "name": "stderr",
     "output_type": "stream",
     "text": [
      "<ipython-input-11-93c6bf553327>:1: VisibleDeprecationWarning: Creating an ndarray from ragged nested sequences (which is a list-or-tuple of lists-or-tuples-or ndarrays with different lengths or shapes) is deprecated. If you meant to do this, you must specify 'dtype=object' when creating the ndarray.\n",
      "  frame_data = np.array(frame_data)\n"
     ]
    }
   ],
   "source": [
    "frame_data = np.array(frame_data)"
   ]
  },
  {
   "cell_type": "code",
   "execution_count": 14,
   "metadata": {},
   "outputs": [],
   "source": [
    "frames=[]\n",
    "for i in range(len(frame_data)):\n",
    "    for j in range(frame_data[i].shape[0]):\n",
    "        frames.append(frame_data[i][j])\n",
    "frames = np.array(frames)"
   ]
  },
  {
   "cell_type": "code",
   "execution_count": 15,
   "metadata": {},
   "outputs": [
    {
     "data": {
      "text/plain": [
       "(1465342, 96)"
      ]
     },
     "execution_count": 15,
     "metadata": {},
     "output_type": "execute_result"
    }
   ],
   "source": [
    "frames.shape"
   ]
  },
  {
   "cell_type": "code",
   "execution_count": 26,
   "metadata": {},
   "outputs": [],
   "source": [
    "np.save(\"frame_dataset.npy\",frames)"
   ]
  },
  {
   "cell_type": "code",
   "execution_count": null,
   "metadata": {},
   "outputs": [],
   "source": []
  },
  {
   "cell_type": "code",
   "execution_count": null,
   "metadata": {},
   "outputs": [],
   "source": []
  }
 ],
 "metadata": {
  "kernelspec": {
   "display_name": "Python 3.8.8 ('base')",
   "language": "python",
   "name": "python3"
  },
  "language_info": {
   "codemirror_mode": {
    "name": "ipython",
    "version": 3
   },
   "file_extension": ".py",
   "mimetype": "text/x-python",
   "name": "python",
   "nbconvert_exporter": "python",
   "pygments_lexer": "ipython3",
   "version": "3.8.8"
  },
  "orig_nbformat": 4,
  "vscode": {
   "interpreter": {
    "hash": "bd11e0ed8ec2bd2c8e5a42fa306014a91d760c2d42e407c00759fcefdf89854d"
   }
  }
 },
 "nbformat": 4,
 "nbformat_minor": 2
}
