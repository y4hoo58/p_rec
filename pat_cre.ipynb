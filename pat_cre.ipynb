{
 "cells": [
  {
   "cell_type": "code",
   "execution_count": 1,
   "metadata": {},
   "outputs": [],
   "source": [
    "import os\n",
    "import cv2 \n",
    "import random\n",
    "import numpy as np\n",
    "import pandas as pd\n",
    "import matplotlib.pyplot as plt\n",
    "\n",
    "import tensorflow as tf"
   ]
  },
  {
   "cell_type": "code",
   "execution_count": 2,
   "id": "e80457a5",
   "metadata": {},
   "outputs": [],
   "source": [
    "frames = np.load(\"frame_dataset.npy\")\n",
    "frames = np.nan_to_num(frames)"
   ]
  },
  {
   "cell_type": "code",
   "execution_count": 3,
   "id": "05c957d7",
   "metadata": {},
   "outputs": [],
   "source": [
    "def create_double():\n",
    "    _pat_samples = []\n",
    "    _possible_lengths=[ 64 , 72 ,80,88, 96 ,104,112,120,128,144,160,176,192]\n",
    "    for _length in _possible_lengths:\n",
    "        for i in range(7,11):\n",
    "            _patch_1_ = np.linspace(0,1,int((_length)/4)).reshape(1,-1)\n",
    "            _patch_2_ = np.linspace(1,0,int((_length)/4)).reshape(1,-1)\n",
    "            _patch_3_ = np.linspace(0,i/10,int((_length)/4)).reshape(1,-1)\n",
    "            _patch_4_ = np.linspace(i/10,0,int((_length)/4)).reshape(1,-1)\n",
    "            _pat_ = np.hstack([_patch_1_,_patch_2_,_patch_3_,_patch_4_]).squeeze()\n",
    "            _pat_samples.append(_pat_.squeeze())\n",
    "    _pat_samples = np.array(_pat_samples)\n",
    "    return  _pat_samples"
   ]
  },
  {
   "cell_type": "code",
   "execution_count": 4,
   "id": "80d22e2b",
   "metadata": {},
   "outputs": [],
   "source": [
    "def augment(_pat_samples,_amount,_threshold):\n",
    "    _cc = _pat_samples.shape[0]\n",
    "    _pat_samples_=[]\n",
    "    _pat_indexes_ = []\n",
    "    _counter = 0\n",
    "    while _counter<10000:\n",
    "        _rp_index=random.randint(0,_cc-1)\n",
    "        _pattern = _pat_samples[_rp_index].reshape(1,-1)\n",
    "\n",
    "        _rand = random.randint(64,95)\n",
    "        _rand_frame = frames[random.randint(0,frames.shape[0]-1)].reshape(1,-1)\n",
    "        _rand_frame = _rand_frame[0,:_rand].reshape(1,-1)\n",
    "        \n",
    "        _rand2 = random.randint(1,16)\n",
    "        _rand2_start = random.randint(6,90-_rand2)\n",
    "        _rand_frame2 = frames[random.randint(0,frames.shape[0]-1)].reshape(1,-1)\n",
    "        _rand_frame2 = _rand_frame2[0,_rand2_start:_rand2_start+_rand2]\n",
    "\n",
    "        if _rand_frame[0,-1]< _threshold:\n",
    "            continue\n",
    "\n",
    "        _std = np.std(_rand_frame)\n",
    "        \n",
    "        _pattern = _pattern + np.random.normal(0,_std*0.5,size = _pattern.shape)\n",
    "        _pattern = _rand_frame[0,-1]+_pattern\n",
    "        _rand_frame2 = _rand_frame2 + (_pattern[0,-1]-_rand_frame2[0])\n",
    "        _rand_frame2 = _rand_frame2.reshape(1,-1)\n",
    "        _pat = np.hstack([_rand_frame,_pattern,_rand_frame2])\n",
    "        _pat = _pat.reshape(_pat.shape+(1,))\n",
    "        _pat = tf.image.resize(_pat,(1,96)).numpy()\n",
    "        _pat = _pat.squeeze()\n",
    "        _pat = (_pat - np.min(_pat))/(np.max(_pat)-np.min(_pat))\n",
    "        _pat_samples_.append(_pat)\n",
    "        _index1 = _rand_frame.shape[1]/(_rand_frame.shape[1]+_pattern.shape[1]+_rand_frame2.shape[1])\n",
    "        _index2 = _rand_frame2.shape[1]/(_rand_frame.shape[1]+_pattern.shape[1]+_rand_frame2.shape[1])\n",
    "        _pat_indexes_.append([_index1,_index2])\n",
    "        \n",
    "        _counter = _counter+1\n",
    "    return np.array(_pat_samples_),np.array(_pat_indexes_)"
   ]
  },
  {
   "cell_type": "code",
   "execution_count": 5,
   "id": "aeaa810a",
   "metadata": {},
   "outputs": [
    {
     "name": "stderr",
     "output_type": "stream",
     "text": [
      "<ipython-input-3-731d46ec1e7f>:12: VisibleDeprecationWarning: Creating an ndarray from ragged nested sequences (which is a list-or-tuple of lists-or-tuples-or ndarrays with different lengths or shapes) is deprecated. If you meant to do this, you must specify 'dtype=object' when creating the ndarray.\n",
      "  _pat_samples = np.array(_pat_samples)\n"
     ]
    }
   ],
   "source": [
    "double_patterns = create_double()\n",
    "double_patterns,double_indexes = augment(double_patterns,10000,0.75)"
   ]
  },
  {
   "cell_type": "code",
   "execution_count": 12,
   "id": "82acd62a",
   "metadata": {},
   "outputs": [
    {
     "data": {
      "text/plain": [
       "<matplotlib.lines.Line2D at 0x15f8701c0>"
      ]
     },
     "execution_count": 12,
     "metadata": {},
     "output_type": "execute_result"
    },
    {
     "data": {
      "image/png": "[encoded data removed]",
      "text/plain": [
       "<Figure size 432x288 with 1 Axes>"
      ]
     },
     "metadata": {
      "needs_background": "light"
     },
     "output_type": "display_data"
    }
   ],
   "source": [
    "inn =random.randint(0,double_patterns.shape[0]-1)\n",
    "plt.plot(double_patterns[inn])\n",
    "plt.axvline(double_indexes[inn,0]*96,color = \"black\")\n",
    "plt.axvline((1-double_indexes[inn,1])*96,color=\"black\")"
   ]
  },
  {
   "cell_type": "code",
   "execution_count": 7,
   "id": "0358a279",
   "metadata": {},
   "outputs": [
    {
     "data": {
      "text/plain": [
       "0.23616236162361623"
      ]
     },
     "execution_count": 7,
     "metadata": {},
     "output_type": "execute_result"
    }
   ],
   "source": [
    "np.min(double_indexes[:,0])"
   ]
  },
  {
   "cell_type": "code",
   "execution_count": null,
   "id": "1c196558",
   "metadata": {},
   "outputs": [],
   "source": []
  },
  {
   "cell_type": "code",
   "execution_count": 13,
   "id": "89860372",
   "metadata": {},
   "outputs": [],
   "source": [
    "def create_hs():\n",
    "    _pat_samples = []\n",
    "    _possible_lengths=[ 64 , 72 ,80,88, 96 ,104,112,120,128,144,160,176,192]\n",
    "    for _length in _possible_lengths:\n",
    "        for i in range(3,9):\n",
    "            _patch_1_ = np.linspace(0,i/10,int((_length)/6)).reshape(1,-1)\n",
    "            _patch_2_ = np.linspace(i/10,0,int((_length)/6)).reshape(1,-1)\n",
    "            _patch_3_ = np.linspace(0,1,int((_length)/6)).reshape(1,-1)\n",
    "            _patch_4_ = np.linspace(1,0,int((_length)/6)).reshape(1,-1)\n",
    "            _patch_5_ = np.linspace(0,(i-1)/10,int((_length)/6)).reshape(1,-1)\n",
    "            _patch_6_ = np.linspace((i-1)/10,0,int((_length)/6)).reshape(1,-1)\n",
    "\n",
    "            _pat_ = np.hstack([_patch_1_,_patch_2_,_patch_3_,_patch_4_,_patch_5_,_patch_6_]).squeeze()\n",
    "            _pat_samples.append(_pat_)\n",
    "    return  np.array(_pat_samples)"
   ]
  },
  {
   "cell_type": "code",
   "execution_count": 14,
   "id": "3d01dcd1",
   "metadata": {},
   "outputs": [
    {
     "name": "stderr",
     "output_type": "stream",
     "text": [
      "<ipython-input-13-98891193a753>:15: VisibleDeprecationWarning: Creating an ndarray from ragged nested sequences (which is a list-or-tuple of lists-or-tuples-or ndarrays with different lengths or shapes) is deprecated. If you meant to do this, you must specify 'dtype=object' when creating the ndarray.\n",
      "  return  np.array(_pat_samples)\n"
     ]
    }
   ],
   "source": [
    "hs_patterns = create_hs()\n",
    "hs_patterns,hs_indexes = augment(hs_patterns,10000,0.75)"
   ]
  },
  {
   "cell_type": "code",
   "execution_count": 15,
   "id": "19637b10",
   "metadata": {},
   "outputs": [
    {
     "data": {
      "text/plain": [
       "[<matplotlib.lines.Line2D at 0x15fb166a0>]"
      ]
     },
     "execution_count": 15,
     "metadata": {},
     "output_type": "execute_result"
    },
    {
     "data": {
      "image/png": "[encoded data removed]",
      "text/plain": [
       "<Figure size 432x288 with 1 Axes>"
      ]
     },
     "metadata": {
      "needs_background": "light"
     },
     "output_type": "display_data"
    }
   ],
   "source": [
    "plt.plot(hs_patterns[random.randint(0,hs_patterns.shape[0]-1)])"
   ]
  },
  {
   "cell_type": "code",
   "execution_count": null,
   "id": "3cdf1fd3",
   "metadata": {},
   "outputs": [],
   "source": []
  },
  {
   "cell_type": "code",
   "execution_count": 16,
   "id": "ce941b00",
   "metadata": {},
   "outputs": [],
   "source": [
    "def create_tri():\n",
    "    _pat_samples = []\n",
    "    _possible_lengths=[ 64 , 72 ,80,88, 96 ,104,112,120,128,144,160,176,192]\n",
    "    for _length in _possible_lengths:\n",
    "        for j in range(int(_length*0.25),int(_length*0.5),1):\n",
    "            _patch_1_ = np.linspace(0,1,int((_length)/6)).reshape(1,-1)\n",
    "            _patch_2_ = np.linspace(1,0.2,int((_length)/6)).reshape(1,-1)\n",
    "            _patch_3_ = np.linspace(0.2,0.8,int((_length)/6)).reshape(1,-1)\n",
    "            _patch_4_ = np.linspace(0.8,0.3,int((_length)/6)).reshape(1,-1)\n",
    "            _patch_5_ = np.linspace(0.3,0.7,int((_length)/6)).reshape(1,-1)\n",
    "            _patch_6_ = np.linspace(0.7,0.5,int((_length)/6)).reshape(1,-1)\n",
    "            _pat_ = np.hstack([_patch_1_,_patch_2_,_patch_3_,_patch_4_,_patch_5_,_patch_6_]).squeeze()\n",
    "\n",
    "            _pat_samples.append(_pat_)\n",
    "    return np.array(_pat_samples)"
   ]
  },
  {
   "cell_type": "code",
   "execution_count": 17,
   "id": "d6c0c058",
   "metadata": {},
   "outputs": [
    {
     "name": "stderr",
     "output_type": "stream",
     "text": [
      "<ipython-input-16-4f88a0db890d>:15: VisibleDeprecationWarning: Creating an ndarray from ragged nested sequences (which is a list-or-tuple of lists-or-tuples-or ndarrays with different lengths or shapes) is deprecated. If you meant to do this, you must specify 'dtype=object' when creating the ndarray.\n",
      "  return np.array(_pat_samples)\n"
     ]
    }
   ],
   "source": [
    "tri_patterns = create_tri()\n",
    "tri_patterns,tri_indexes = augment(tri_patterns,10000,0)"
   ]
  },
  {
   "cell_type": "code",
   "execution_count": 18,
   "id": "b770c5c7",
   "metadata": {},
   "outputs": [
    {
     "data": {
      "text/plain": [
       "[<matplotlib.lines.Line2D at 0x15f92b820>]"
      ]
     },
     "execution_count": 18,
     "metadata": {},
     "output_type": "execute_result"
    },
    {
     "data": {
      "image/png": "[encoded data removed]",
      "text/plain": [
       "<Figure size 432x288 with 1 Axes>"
      ]
     },
     "metadata": {
      "needs_background": "light"
     },
     "output_type": "display_data"
    }
   ],
   "source": [
    "plt.plot(tri_patterns[random.randint(0,tri_patterns.shape[0]-1)])"
   ]
  },
  {
   "cell_type": "code",
   "execution_count": null,
   "id": "9aeaa144",
   "metadata": {},
   "outputs": [],
   "source": []
  },
  {
   "cell_type": "code",
   "execution_count": 19,
   "id": "dc6d5258",
   "metadata": {},
   "outputs": [],
   "source": [
    "def create_wedge():\n",
    "    _pat_samples = []\n",
    "    _possible_lengths=[ 64 , 72 ,80,88, 96 ,104,112,120,128,144,160,176,192]\n",
    "    for _length in _possible_lengths:\n",
    "        _patch_1_ = np.linspace(-0.1,0.85,int((_length)/6)).reshape(1,-1)\n",
    "        _patch_2_ = np.linspace(0.85,0.25,int((_length)/6)).reshape(1,-1)\n",
    "        _patch_3_ = np.linspace(0.25,0.95,int((_length)/6)).reshape(1,-1)\n",
    "        _patch_4_ = np.linspace(0.95,0.5,int((_length)/6)).reshape(1,-1)\n",
    "        _patch_5_ = np.linspace(0.5,1,int((_length)/6)).reshape(1,-1)\n",
    "        _patch_6_ = np.linspace(1,0.8,int((_length)/6)).reshape(1,-1)\n",
    "        _pat_ = np.hstack([_patch_1_,_patch_2_,_patch_3_,_patch_4_,_patch_5_,_patch_6_]).squeeze()\n",
    "        \n",
    "        _pat_samples.append(_pat_)\n",
    "    return np.array(_pat_samples)"
   ]
  },
  {
   "cell_type": "code",
   "execution_count": 20,
   "id": "57380b03",
   "metadata": {},
   "outputs": [
    {
     "name": "stderr",
     "output_type": "stream",
     "text": [
      "<ipython-input-19-f7c94caad0d1>:14: VisibleDeprecationWarning: Creating an ndarray from ragged nested sequences (which is a list-or-tuple of lists-or-tuples-or ndarrays with different lengths or shapes) is deprecated. If you meant to do this, you must specify 'dtype=object' when creating the ndarray.\n",
      "  return np.array(_pat_samples)\n"
     ]
    }
   ],
   "source": [
    "wedge_patterns = create_wedge()\n",
    "wedge_patterns,wedge_indexes = augment(wedge_patterns,10000,0)"
   ]
  },
  {
   "cell_type": "code",
   "execution_count": 21,
   "id": "95b551df",
   "metadata": {},
   "outputs": [
    {
     "data": {
      "text/plain": [
       "[<matplotlib.lines.Line2D at 0x15eea0d60>]"
      ]
     },
     "execution_count": 21,
     "metadata": {},
     "output_type": "execute_result"
    },
    {
     "data": {
      "image/png": "[encoded data removed]",
      "text/plain": [
       "<Figure size 432x288 with 1 Axes>"
      ]
     },
     "metadata": {
      "needs_background": "light"
     },
     "output_type": "display_data"
    }
   ],
   "source": [
    "plt.plot(wedge_patterns[random.randint(0,wedge_patterns.shape[0]-1)])"
   ]
  },
  {
   "cell_type": "code",
   "execution_count": 22,
   "id": "c094856b",
   "metadata": {},
   "outputs": [],
   "source": [
    "patterns = np.vstack([tri_patterns,double_patterns,hs_patterns,wedge_patterns])"
   ]
  },
  {
   "cell_type": "code",
   "execution_count": 23,
   "id": "17581b29",
   "metadata": {},
   "outputs": [],
   "source": [
    "locations = np.vstack([tri_indexes,double_indexes,hs_indexes,wedge_indexes])"
   ]
  },
  {
   "cell_type": "code",
   "execution_count": 24,
   "id": "7c07c919",
   "metadata": {},
   "outputs": [],
   "source": [
    "np.save(\"pattern_images.npy\",patterns)"
   ]
  },
  {
   "cell_type": "code",
   "execution_count": 25,
   "id": "acff73c1",
   "metadata": {},
   "outputs": [],
   "source": [
    "np.save(\"pattern_locations.npy\",locations)"
   ]
  },
  {
   "cell_type": "code",
   "execution_count": 26,
   "id": "f7a682bb",
   "metadata": {},
   "outputs": [
    {
     "data": {
      "text/plain": [
       "0.23529411764705882"
      ]
     },
     "execution_count": 26,
     "metadata": {},
     "output_type": "execute_result"
    }
   ],
   "source": [
    "np.min(locations[:,0])"
   ]
  },
  {
   "cell_type": "code",
   "execution_count": null,
   "id": "81a46312",
   "metadata": {},
   "outputs": [],
   "source": []
  },
  {
   "cell_type": "code",
   "execution_count": null,
   "id": "3288deae",
   "metadata": {},
   "outputs": [],
   "source": []
  }
 ],
 "metadata": {
  "kernelspec": {
   "display_name": "Python 3.8.8 ('base')",
   "language": "python",
   "name": "python3"
  },
  "language_info": {
   "codemirror_mode": {
    "name": "ipython",
    "version": 3
   },
   "file_extension": ".py",
   "mimetype": "text/x-python",
   "name": "python",
   "nbconvert_exporter": "python",
   "pygments_lexer": "ipython3",
   "version": "3.8.8"
  },
  "vscode": {
   "interpreter": {
    "hash": "bd11e0ed8ec2bd2c8e5a42fa306014a91d760c2d42e407c00759fcefdf89854d"
   }
  }
 },
 "nbformat": 4,
 "nbformat_minor": 5
}
