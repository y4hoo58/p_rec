{
 "cells": [
  {
   "cell_type": "code",
   "execution_count": 1,
   "metadata": {},
   "outputs": [],
   "source": [
    "import os\n",
    "import random\n",
    "import numpy as np\n",
    "import pandas as pd\n",
    "import matplotlib.pyplot as plt\n",
    "\n",
    "import tensorflow as tf\n",
    "from tensorflow import keras"
   ]
  },
  {
   "cell_type": "code",
   "execution_count": 2,
   "metadata": {},
   "outputs": [],
   "source": [
    "frames = np.load(\"frame_dataset.npy\")\n",
    "frames = np.nan_to_num(frames)"
   ]
  },
  {
   "cell_type": "code",
   "execution_count": 3,
   "metadata": {},
   "outputs": [],
   "source": [
    "patterns = np.load(\"pattern_images.npy\")\n",
    "i_patterns = 1-patterns\n",
    "patterns = np.append(patterns,i_patterns,axis=0)\n",
    "\n",
    "locs = np.load(\"pattern_locations.npy\")\n",
    "locs = np.append(locs,locs,axis=0)\n",
    "locs[:,1] = (1- locs[:,1]) - locs[:,0]\n",
    "#locs[:,1] = (1-locs[:,1])"
   ]
  },
  {
   "cell_type": "code",
   "execution_count": 4,
   "metadata": {},
   "outputs": [
    {
     "data": {
      "text/plain": [
       "array([[0.47619048, 0.5       ],\n",
       "       [0.38139535, 0.55813953],\n",
       "       [0.26771654, 0.68503937],\n",
       "       ...,\n",
       "       [0.35744681, 0.61276596],\n",
       "       [0.50314465, 0.45283019],\n",
       "       [0.3627451 , 0.58823529]])"
      ]
     },
     "execution_count": 4,
     "metadata": {},
     "output_type": "execute_result"
    }
   ],
   "source": [
    "locs"
   ]
  },
  {
   "cell_type": "code",
   "execution_count": 5,
   "metadata": {},
   "outputs": [
    {
     "data": {
      "text/plain": [
       "((80000, 96), (80000, 2), (1465342, 96))"
      ]
     },
     "execution_count": 5,
     "metadata": {},
     "output_type": "execute_result"
    }
   ],
   "source": [
    "patterns.shape,locs.shape,frames.shape"
   ]
  },
  {
   "cell_type": "code",
   "execution_count": 6,
   "metadata": {},
   "outputs": [
    {
     "data": {
      "text/plain": [
       "('Common image num is ', 38)"
      ]
     },
     "execution_count": 6,
     "metadata": {},
     "output_type": "execute_result"
    }
   ],
   "source": [
    "train_list = np.linspace(0,frames.shape[0]-1,16000,dtype = np.int32)\n",
    "test_list = np.linspace(random.randint(1,9),frames.shape[0]-1,4000,dtype = np.int32)\n",
    "common_images = train_list.shape[0]+test_list.shape[0]-np.unique(np.append(train_list,test_list)).shape[0]\n",
    "\"Common image num is \",common_images"
   ]
  },
  {
   "cell_type": "code",
   "execution_count": 7,
   "metadata": {},
   "outputs": [],
   "source": [
    "frames_train = np.array(frames[train_list])\n",
    "frames_test = np.array(frames[test_list])\n",
    "\n",
    "frames_train_target = np.zeros((frames_train.shape[0],4)) \n",
    "frames_test_target = np.zeros((frames_test.shape[0],4))\n",
    "\n",
    "frames_train_loc = np.zeros((frames_train.shape[0],2)) \n",
    "frames_test_loc = np.zeros((frames_test.shape[0],2))\n",
    "\n",
    "#frames_train_target[:,0]=1\n",
    "#frames_test_target[:,0]=1"
   ]
  },
  {
   "cell_type": "code",
   "execution_count": 8,
   "metadata": {},
   "outputs": [],
   "source": [
    "pattern_targets = np.zeros((patterns.shape[0],4))\n",
    "pattern_locs = np.array(locs)\n",
    "\n",
    "indexes = np.arange(0,patterns.shape[0])\n",
    "np.random.shuffle(indexes)\n",
    "\n",
    "pattern_targets[:int(10000),0] = 1\n",
    "pattern_targets[int(10000):20000,1] = 1\n",
    "pattern_targets[int(20000):30000,2] = 1\n",
    "pattern_targets[30000:40000,3] = 1\n",
    "\n",
    "pattern_targets[40000:50000,0] = 1\n",
    "pattern_targets[50000:60000,1] = 1\n",
    "pattern_targets[60000:70000,2] = 1\n",
    "pattern_targets[70000:80000,3] = 1\n",
    "\n",
    "pattern_images_train = np.array(patterns[indexes[:64000]])\n",
    "pattern_images_test = np.array(patterns[indexes[64000:]])\n",
    "\n",
    "pattern_targets_train = np.array(pattern_targets[indexes[:64000]])\n",
    "pattern_targets_test = np.array(pattern_targets[indexes[64000:]])\n",
    "\n",
    "pattern_targets_loc = np.array(pattern_locs[indexes[:64000]])\n",
    "pattern_tests_loc = np.array(pattern_locs[indexes[64000:]])"
   ]
  },
  {
   "cell_type": "code",
   "execution_count": 9,
   "metadata": {},
   "outputs": [
    {
     "data": {
      "text/plain": [
       "((64000, 96), (16000, 96), (64000, 4), (16000, 4), (64000, 2), (16000, 2))"
      ]
     },
     "execution_count": 9,
     "metadata": {},
     "output_type": "execute_result"
    }
   ],
   "source": [
    "pattern_images_train.shape,pattern_images_test.shape,pattern_targets_train.shape,pattern_targets_test.shape,pattern_targets_loc.shape,pattern_tests_loc.shape"
   ]
  },
  {
   "cell_type": "code",
   "execution_count": 10,
   "metadata": {},
   "outputs": [],
   "source": [
    "x_train = np.vstack([frames_train,pattern_images_train])\n",
    "y_train = np.vstack([frames_train_target,pattern_targets_train])\n",
    "y_train_locs = np.vstack([frames_train_loc,pattern_targets_loc])\n",
    "\n",
    "x_test = np.vstack([frames_test,pattern_images_test])\n",
    "y_test = np.vstack([frames_test_target,pattern_targets_test])\n",
    "y_test_locs = np.vstack([frames_test_loc,pattern_tests_loc])"
   ]
  },
  {
   "cell_type": "code",
   "execution_count": 11,
   "metadata": {},
   "outputs": [
    {
     "data": {
      "text/plain": [
       "((80000, 96), (80000, 4), (80000, 2), (20000, 96), (20000, 4), (20000, 2))"
      ]
     },
     "execution_count": 11,
     "metadata": {},
     "output_type": "execute_result"
    }
   ],
   "source": [
    "x_train.shape,y_train.shape,y_train_locs.shape,x_test.shape,y_test.shape,y_test_locs.shape"
   ]
  },
  {
   "cell_type": "code",
   "execution_count": 12,
   "metadata": {},
   "outputs": [
    {
     "data": {
      "text/plain": [
       "((80000, 96), (80000, 4), (80000, 2), (20000, 96), (20000, 4))"
      ]
     },
     "execution_count": 12,
     "metadata": {},
     "output_type": "execute_result"
    }
   ],
   "source": [
    "x_train.shape,y_train.shape,y_train_locs.shape,x_test.shape,y_test.shape"
   ]
  },
  {
   "cell_type": "code",
   "execution_count": 13,
   "metadata": {},
   "outputs": [],
   "source": [
    "x_train = (x_train-0.5)*2\n",
    "x_test = (x_test-0.5)*2"
   ]
  },
  {
   "cell_type": "code",
   "execution_count": 14,
   "metadata": {},
   "outputs": [
    {
     "data": {
      "text/plain": [
       "[<matplotlib.lines.Line2D at 0x17dff02e0>]"
      ]
     },
     "execution_count": 14,
     "metadata": {},
     "output_type": "execute_result"
    },
    {
     "data": {
      "image/png": "[encoded data removed]",
      "text/plain": [
       "<Figure size 432x288 with 1 Axes>"
      ]
     },
     "metadata": {
      "needs_background": "light"
     },
     "output_type": "display_data"
    }
   ],
   "source": [
    "plt.plot(x_train[random.randint(16000,x_train.shape[0]-1)])"
   ]
  },
  {
   "cell_type": "code",
   "execution_count": 15,
   "metadata": {},
   "outputs": [],
   "source": [
    "def iou_loss(y_true,y_pred):\n",
    "    min_min = tf.math.minimum(y_true[...,0],y_pred[...,0])\n",
    "    max_min = tf.math.maximum(y_true[...,0],y_pred[...,0])\n",
    "\n",
    "    min_max = tf.math.minimum(y_true[...,0]+y_true[...,1],y_pred[...,0]+y_pred[...,1])\n",
    "    max_max = tf.math.maximum(y_true[...,0]+y_true[...,1],y_pred[...,0]+y_pred[...,1])\n",
    "\n",
    "    _div = tf.math.divide_no_nan((min_max - max_min),(max_max - min_min))\n",
    "    _loss = tf.math.reduce_mean(_div)\n",
    "    return 1-_loss"
   ]
  },
  {
   "cell_type": "code",
   "execution_count": 16,
   "metadata": {},
   "outputs": [],
   "source": [
    "def conv_block(_input,_filters,_kernel,_pooling):\n",
    "    c = keras.layers.ZeroPadding1D(padding=(1,1))(_input)\n",
    "    c  = keras.layers.LocallyConnected1D(_filters,kernel_size = _kernel,padding=\"valid\",activation=\"relu\")(c)\n",
    "    c  = keras.layers.BatchNormalization()(c)\n",
    "\n",
    "    c = keras.layers.ZeroPadding1D(padding=(1,1))(c)\n",
    "    c  = keras.layers.LocallyConnected1D(_filters,strides=1,kernel_size = _kernel,padding=\"valid\",activation=\"relu\")(c)\n",
    "    c = keras.layers.MaxPooling1D(_pooling)(c)\n",
    "    c  = keras.layers.BatchNormalization()(c)\n",
    "    \n",
    "    return c"
   ]
  },
  {
   "cell_type": "code",
   "execution_count": 17,
   "metadata": {},
   "outputs": [],
   "source": [
    "def create_model():\n",
    "    \n",
    "    i = keras.layers.Input(shape = (96,))\n",
    "    e = keras.layers.Reshape((96,1))(i)\n",
    "    \n",
    "    e = conv_block(_input = e,_filters = 4,_kernel = 3,_pooling = 2)\n",
    "    #  48 \n",
    "\n",
    "    e = conv_block(_input = e,_filters = 8,_kernel = 3,_pooling = 2)\n",
    "    #  24 \n",
    "\n",
    "    e3 = conv_block(_input = e,_filters = 16,_kernel = 3,_pooling = 2)    \n",
    "    #  12 \n",
    "\n",
    "    e2 = conv_block(_input = e3,_filters = 32,_kernel = 3,_pooling = 2)    \n",
    "    #  6 \n",
    "\n",
    "    e1 = conv_block(_input = e2,_filters = 64,_kernel = 3,_pooling = 2)    \n",
    "    #  3 \n",
    "\n",
    "    e0 = conv_block(_input = e1,_filters = 128,_kernel = 3,_pooling = 3)    \n",
    "    #  3 \n",
    "\n",
    "    e0 = keras.layers.Conv1D(96,kernel_size = 1,activation = \"relu\",padding=\"same\")(e0)\n",
    "    e0 = keras.layers.Flatten()(e0)\n",
    "\n",
    "    e1 = keras.layers.Conv1D(32,kernel_size = 1,activation = \"relu\",padding=\"same\")(e1)\n",
    "    e1 = keras.layers.Flatten()(e1)\n",
    "\n",
    "    e2 = keras.layers.Conv1D(16,kernel_size = 1,activation=\"relu\",padding=\"same\")(e2)\n",
    "    e2 = keras.layers.Flatten()(e2)\n",
    "\n",
    "    e3 = keras.layers.Conv1D(8,kernel_size = 1,activation=\"relu\",padding=\"same\")(e3)\n",
    "    e3 = keras.layers.Flatten()(e3)\n",
    "\n",
    "    e0 = tf.expand_dims(e0,axis = -2)\n",
    "    e1 = tf.expand_dims(e1,axis = -2)\n",
    "    e2 = tf.expand_dims(e2,axis=-2)\n",
    "    e3 = tf.expand_dims(e3,axis=-2)\n",
    "\n",
    "    e = keras.layers.Concatenate(axis=-2)([e0,e1,e2,e3])#([e0,e1,e2,e3]) , axis=-2\n",
    "\n",
    "    c = keras.layers.Conv1D(192,kernel_size = 3,activation = \"relu\",padding=\"same\")(e)\n",
    "    c = keras.layers.BatchNormalization()(c)\n",
    "\n",
    "    c = keras.layers.Conv1D(96,kernel_size = 1,activation = \"relu\")(c)\n",
    "    c = keras.layers.BatchNormalization()(c)\n",
    "\n",
    "    c = keras.layers.Conv1D(1,kernel_size = 1,activation=\"sigmoid\")(c)\n",
    "    c = keras.layers.Flatten()(c)\n",
    "\n",
    "    d = keras.layers.Conv1D(192,kernel_size = 3,activation = \"relu\",padding=\"same\")(e)\n",
    "    d = keras.layers.BatchNormalization()(d)\n",
    "\n",
    "    d = keras.layers.Conv1D(96,kernel_size = 1,activation = \"relu\")(d)\n",
    "    d = keras.layers.BatchNormalization()(d)\n",
    "    \n",
    "    d = keras.layers.Conv1D(192,kernel_size = 3,activation = \"relu\")(d)\n",
    "    d = keras.layers.BatchNormalization()(d)\n",
    "\n",
    "    d = keras.layers.Conv1D(96,kernel_size = 1,activation = \"relu\")(d)\n",
    "    d = keras.layers.BatchNormalization()(d)\n",
    "\n",
    "    d = keras.layers.Conv1D(1,kernel_size = 1,activation=\"relu\")(d)\n",
    "    d = keras.layers.Flatten()(d)\n",
    "    \n",
    "    \n",
    "    model = keras.models.Model(inputs = i, outputs = [c,d])\n",
    "    model.compile(loss = [keras.losses.binary_crossentropy,iou_loss],optimizer = keras.optimizers.Adam(1e-3))\n",
    "    return model\n",
    "\n"
   ]
  },
  {
   "cell_type": "code",
   "execution_count": 18,
   "metadata": {},
   "outputs": [],
   "source": [
    "tf.keras.backend.clear_session()"
   ]
  },
  {
   "cell_type": "code",
   "execution_count": 19,
   "metadata": {},
   "outputs": [
    {
     "name": "stdout",
     "output_type": "stream",
     "text": [
      "Model: \"model\"\n",
      "__________________________________________________________________________________________________\n",
      " Layer (type)                   Output Shape         Param #     Connected to                     \n",
      "==================================================================================================\n",
      " input_1 (InputLayer)           [(None, 96)]         0           []                               \n",
      "                                                                                                  \n",
      " reshape (Reshape)              (None, 96, 1)        0           ['input_1[0][0]']                \n",
      "                                                                                                  \n",
      " zero_padding1d (ZeroPadding1D)  (None, 98, 1)       0           ['reshape[0][0]']                \n",
      "                                                                                                  \n",
      " locally_connected1d (LocallyCo  (None, 96, 4)       1536        ['zero_padding1d[0][0]']         \n",
      " nnected1D)                                                                                       \n",
      "                                                                                                  \n",
      " batch_normalization (BatchNorm  (None, 96, 4)       16          ['locally_connected1d[0][0]']    \n",
      " alization)                                                                                       \n",
      "                                                                                                  \n",
      " zero_padding1d_1 (ZeroPadding1  (None, 98, 4)       0           ['batch_normalization[0][0]']    \n",
      " D)                                                                                               \n",
      "                                                                                                  \n",
      " locally_connected1d_1 (Locally  (None, 96, 4)       4992        ['zero_padding1d_1[0][0]']       \n",
      " Connected1D)                                                                                     \n",
      "                                                                                                  \n",
      " max_pooling1d (MaxPooling1D)   (None, 48, 4)        0           ['locally_connected1d_1[0][0]']  \n",
      "                                                                                                  \n",
      " batch_normalization_1 (BatchNo  (None, 48, 4)       16          ['max_pooling1d[0][0]']          \n",
      " rmalization)                                                                                     \n",
      "                                                                                                  \n",
      " zero_padding1d_2 (ZeroPadding1  (None, 50, 4)       0           ['batch_normalization_1[0][0]']  \n",
      " D)                                                                                               \n",
      "                                                                                                  \n",
      " locally_connected1d_2 (Locally  (None, 48, 8)       4992        ['zero_padding1d_2[0][0]']       \n",
      " Connected1D)                                                                                     \n",
      "                                                                                                  \n",
      " batch_normalization_2 (BatchNo  (None, 48, 8)       32          ['locally_connected1d_2[0][0]']  \n",
      " rmalization)                                                                                     \n",
      "                                                                                                  \n",
      " zero_padding1d_3 (ZeroPadding1  (None, 50, 8)       0           ['batch_normalization_2[0][0]']  \n",
      " D)                                                                                               \n",
      "                                                                                                  \n",
      " locally_connected1d_3 (Locally  (None, 48, 8)       9600        ['zero_padding1d_3[0][0]']       \n",
      " Connected1D)                                                                                     \n",
      "                                                                                                  \n",
      " max_pooling1d_1 (MaxPooling1D)  (None, 24, 8)       0           ['locally_connected1d_3[0][0]']  \n",
      "                                                                                                  \n",
      " batch_normalization_3 (BatchNo  (None, 24, 8)       32          ['max_pooling1d_1[0][0]']        \n",
      " rmalization)                                                                                     \n",
      "                                                                                                  \n",
      " zero_padding1d_4 (ZeroPadding1  (None, 26, 8)       0           ['batch_normalization_3[0][0]']  \n",
      " D)                                                                                               \n",
      "                                                                                                  \n",
      " locally_connected1d_4 (Locally  (None, 24, 16)      9600        ['zero_padding1d_4[0][0]']       \n",
      " Connected1D)                                                                                     \n",
      "                                                                                                  \n",
      " batch_normalization_4 (BatchNo  (None, 24, 16)      64          ['locally_connected1d_4[0][0]']  \n",
      " rmalization)                                                                                     \n",
      "                                                                                                  \n",
      " zero_padding1d_5 (ZeroPadding1  (None, 26, 16)      0           ['batch_normalization_4[0][0]']  \n",
      " D)                                                                                               \n",
      "                                                                                                  \n",
      " locally_connected1d_5 (Locally  (None, 24, 16)      18816       ['zero_padding1d_5[0][0]']       \n",
      " Connected1D)                                                                                     \n",
      "                                                                                                  \n",
      " max_pooling1d_2 (MaxPooling1D)  (None, 12, 16)      0           ['locally_connected1d_5[0][0]']  \n",
      "                                                                                                  \n",
      " batch_normalization_5 (BatchNo  (None, 12, 16)      64          ['max_pooling1d_2[0][0]']        \n",
      " rmalization)                                                                                     \n",
      "                                                                                                  \n",
      " zero_padding1d_6 (ZeroPadding1  (None, 14, 16)      0           ['batch_normalization_5[0][0]']  \n",
      " D)                                                                                               \n",
      "                                                                                                  \n",
      " locally_connected1d_6 (Locally  (None, 12, 32)      18816       ['zero_padding1d_6[0][0]']       \n",
      " Connected1D)                                                                                     \n",
      "                                                                                                  \n",
      " batch_normalization_6 (BatchNo  (None, 12, 32)      128         ['locally_connected1d_6[0][0]']  \n",
      " rmalization)                                                                                     \n",
      "                                                                                                  \n",
      " zero_padding1d_7 (ZeroPadding1  (None, 14, 32)      0           ['batch_normalization_6[0][0]']  \n",
      " D)                                                                                               \n",
      "                                                                                                  \n",
      " locally_connected1d_7 (Locally  (None, 12, 32)      37248       ['zero_padding1d_7[0][0]']       \n",
      " Connected1D)                                                                                     \n",
      "                                                                                                  \n",
      " max_pooling1d_3 (MaxPooling1D)  (None, 6, 32)       0           ['locally_connected1d_7[0][0]']  \n",
      "                                                                                                  \n",
      " batch_normalization_7 (BatchNo  (None, 6, 32)       128         ['max_pooling1d_3[0][0]']        \n",
      " rmalization)                                                                                     \n",
      "                                                                                                  \n",
      " zero_padding1d_8 (ZeroPadding1  (None, 8, 32)       0           ['batch_normalization_7[0][0]']  \n",
      " D)                                                                                               \n",
      "                                                                                                  \n",
      " locally_connected1d_8 (Locally  (None, 6, 64)       37248       ['zero_padding1d_8[0][0]']       \n",
      " Connected1D)                                                                                     \n",
      "                                                                                                  \n",
      " batch_normalization_8 (BatchNo  (None, 6, 64)       256         ['locally_connected1d_8[0][0]']  \n",
      " rmalization)                                                                                     \n",
      "                                                                                                  \n",
      " zero_padding1d_9 (ZeroPadding1  (None, 8, 64)       0           ['batch_normalization_8[0][0]']  \n",
      " D)                                                                                               \n",
      "                                                                                                  \n",
      " locally_connected1d_9 (Locally  (None, 6, 64)       74112       ['zero_padding1d_9[0][0]']       \n",
      " Connected1D)                                                                                     \n",
      "                                                                                                  \n",
      " max_pooling1d_4 (MaxPooling1D)  (None, 3, 64)       0           ['locally_connected1d_9[0][0]']  \n",
      "                                                                                                  \n",
      " batch_normalization_9 (BatchNo  (None, 3, 64)       256         ['max_pooling1d_4[0][0]']        \n",
      " rmalization)                                                                                     \n",
      "                                                                                                  \n",
      " zero_padding1d_10 (ZeroPadding  (None, 5, 64)       0           ['batch_normalization_9[0][0]']  \n",
      " 1D)                                                                                              \n",
      "                                                                                                  \n",
      " locally_connected1d_10 (Locall  (None, 3, 128)      74112       ['zero_padding1d_10[0][0]']      \n",
      " yConnected1D)                                                                                    \n",
      "                                                                                                  \n",
      " batch_normalization_10 (BatchN  (None, 3, 128)      512         ['locally_connected1d_10[0][0]'] \n",
      " ormalization)                                                                                    \n",
      "                                                                                                  \n",
      " zero_padding1d_11 (ZeroPadding  (None, 5, 128)      0           ['batch_normalization_10[0][0]'] \n",
      " 1D)                                                                                              \n",
      "                                                                                                  \n",
      " locally_connected1d_11 (Locall  (None, 3, 128)      147840      ['zero_padding1d_11[0][0]']      \n",
      " yConnected1D)                                                                                    \n",
      "                                                                                                  \n",
      " max_pooling1d_5 (MaxPooling1D)  (None, 1, 128)      0           ['locally_connected1d_11[0][0]'] \n",
      "                                                                                                  \n",
      " batch_normalization_11 (BatchN  (None, 1, 128)      512         ['max_pooling1d_5[0][0]']        \n",
      " ormalization)                                                                                    \n",
      "                                                                                                  \n",
      " conv1d (Conv1D)                (None, 1, 96)        12384       ['batch_normalization_11[0][0]'] \n",
      "                                                                                                  \n",
      " conv1d_1 (Conv1D)              (None, 3, 32)        2080        ['batch_normalization_9[0][0]']  \n",
      "                                                                                                  \n",
      " conv1d_2 (Conv1D)              (None, 6, 16)        528         ['batch_normalization_7[0][0]']  \n",
      "                                                                                                  \n",
      " conv1d_3 (Conv1D)              (None, 12, 8)        136         ['batch_normalization_5[0][0]']  \n",
      "                                                                                                  \n",
      " flatten (Flatten)              (None, 96)           0           ['conv1d[0][0]']                 \n",
      "                                                                                                  \n",
      " flatten_1 (Flatten)            (None, 96)           0           ['conv1d_1[0][0]']               \n",
      "                                                                                                  \n",
      " flatten_2 (Flatten)            (None, 96)           0           ['conv1d_2[0][0]']               \n",
      "                                                                                                  \n",
      " flatten_3 (Flatten)            (None, 96)           0           ['conv1d_3[0][0]']               \n",
      "                                                                                                  \n",
      " tf.expand_dims (TFOpLambda)    (None, 1, 96)        0           ['flatten[0][0]']                \n",
      "                                                                                                  \n",
      " tf.expand_dims_1 (TFOpLambda)  (None, 1, 96)        0           ['flatten_1[0][0]']              \n",
      "                                                                                                  \n",
      " tf.expand_dims_2 (TFOpLambda)  (None, 1, 96)        0           ['flatten_2[0][0]']              \n",
      "                                                                                                  \n",
      " tf.expand_dims_3 (TFOpLambda)  (None, 1, 96)        0           ['flatten_3[0][0]']              \n",
      "                                                                                                  \n",
      " concatenate (Concatenate)      (None, 4, 96)        0           ['tf.expand_dims[0][0]',         \n",
      "                                                                  'tf.expand_dims_1[0][0]',       \n",
      "                                                                  'tf.expand_dims_2[0][0]',       \n",
      "                                                                  'tf.expand_dims_3[0][0]']       \n",
      "                                                                                                  \n",
      " conv1d_7 (Conv1D)              (None, 4, 192)       55488       ['concatenate[0][0]']            \n",
      "                                                                                                  \n",
      " batch_normalization_14 (BatchN  (None, 4, 192)      768         ['conv1d_7[0][0]']               \n",
      " ormalization)                                                                                    \n",
      "                                                                                                  \n",
      " conv1d_8 (Conv1D)              (None, 4, 96)        18528       ['batch_normalization_14[0][0]'] \n",
      "                                                                                                  \n",
      " batch_normalization_15 (BatchN  (None, 4, 96)       384         ['conv1d_8[0][0]']               \n",
      " ormalization)                                                                                    \n",
      "                                                                                                  \n",
      " conv1d_4 (Conv1D)              (None, 4, 192)       55488       ['concatenate[0][0]']            \n",
      "                                                                                                  \n",
      " conv1d_9 (Conv1D)              (None, 2, 192)       55488       ['batch_normalization_15[0][0]'] \n",
      "                                                                                                  \n",
      " batch_normalization_12 (BatchN  (None, 4, 192)      768         ['conv1d_4[0][0]']               \n",
      " ormalization)                                                                                    \n",
      "                                                                                                  \n",
      " batch_normalization_16 (BatchN  (None, 2, 192)      768         ['conv1d_9[0][0]']               \n",
      " ormalization)                                                                                    \n",
      "                                                                                                  \n",
      " conv1d_5 (Conv1D)              (None, 4, 96)        18528       ['batch_normalization_12[0][0]'] \n",
      "                                                                                                  \n",
      " conv1d_10 (Conv1D)             (None, 2, 96)        18528       ['batch_normalization_16[0][0]'] \n",
      "                                                                                                  \n",
      " batch_normalization_13 (BatchN  (None, 4, 96)       384         ['conv1d_5[0][0]']               \n",
      " ormalization)                                                                                    \n",
      "                                                                                                  \n",
      " batch_normalization_17 (BatchN  (None, 2, 96)       384         ['conv1d_10[0][0]']              \n",
      " ormalization)                                                                                    \n",
      "                                                                                                  \n",
      " conv1d_6 (Conv1D)              (None, 4, 1)         97          ['batch_normalization_13[0][0]'] \n",
      "                                                                                                  \n",
      " conv1d_11 (Conv1D)             (None, 2, 1)         97          ['batch_normalization_17[0][0]'] \n",
      "                                                                                                  \n",
      " flatten_4 (Flatten)            (None, 4)            0           ['conv1d_6[0][0]']               \n",
      "                                                                                                  \n",
      " flatten_5 (Flatten)            (None, 2)            0           ['conv1d_11[0][0]']              \n",
      "                                                                                                  \n",
      "==================================================================================================\n",
      "Total params: 681,754\n",
      "Trainable params: 679,018\n",
      "Non-trainable params: 2,736\n",
      "__________________________________________________________________________________________________\n"
     ]
    }
   ],
   "source": [
    "model = create_model()\n",
    "model.summary()"
   ]
  },
  {
   "cell_type": "code",
   "execution_count": 89,
   "metadata": {},
   "outputs": [
    {
     "name": "stdout",
     "output_type": "stream",
     "text": [
      "Epoch 1/10\n",
      "1250/1250 [==============================] - 31s 25ms/step - loss: 0.2274 - flatten_4_loss: 0.0036 - flatten_5_loss: 0.2238 - val_loss: 0.2300 - val_flatten_4_loss: 0.0059 - val_flatten_5_loss: 0.2241\n",
      "Epoch 2/10\n",
      "1250/1250 [==============================] - 31s 25ms/step - loss: 0.2284 - flatten_4_loss: 0.0044 - flatten_5_loss: 0.2240 - val_loss: 0.2290 - val_flatten_4_loss: 0.0053 - val_flatten_5_loss: 0.2237\n",
      "Epoch 3/10\n",
      "1250/1250 [==============================] - 31s 25ms/step - loss: 0.2239 - flatten_4_loss: 0.0026 - flatten_5_loss: 0.2213 - val_loss: 0.2297 - val_flatten_4_loss: 0.0074 - val_flatten_5_loss: 0.2223\n",
      "Epoch 4/10\n",
      "1250/1250 [==============================] - 31s 25ms/step - loss: 0.2238 - flatten_4_loss: 0.0025 - flatten_5_loss: 0.2213 - val_loss: 0.2413 - val_flatten_4_loss: 0.0104 - val_flatten_5_loss: 0.2309\n",
      "Epoch 5/10\n",
      "1250/1250 [==============================] - 30s 24ms/step - loss: 0.2240 - flatten_4_loss: 0.0026 - flatten_5_loss: 0.2214 - val_loss: 0.2259 - val_flatten_4_loss: 0.0050 - val_flatten_5_loss: 0.2209\n",
      "Epoch 6/10\n",
      "1250/1250 [==============================] - 30s 24ms/step - loss: 0.2320 - flatten_4_loss: 0.0057 - flatten_5_loss: 0.2263 - val_loss: 0.2358 - val_flatten_4_loss: 0.0070 - val_flatten_5_loss: 0.2288\n",
      "Epoch 7/10\n",
      "1250/1250 [==============================] - 31s 25ms/step - loss: 0.2251 - flatten_4_loss: 0.0029 - flatten_5_loss: 0.2221 - val_loss: 0.2272 - val_flatten_4_loss: 0.0049 - val_flatten_5_loss: 0.2223\n",
      "Epoch 8/10\n",
      "1250/1250 [==============================] - 32s 25ms/step - loss: 0.2317 - flatten_4_loss: 0.0056 - flatten_5_loss: 0.2262 - val_loss: 0.2381 - val_flatten_4_loss: 0.0064 - val_flatten_5_loss: 0.2317\n",
      "Epoch 9/10\n",
      "1250/1250 [==============================] - 31s 25ms/step - loss: 0.2242 - flatten_4_loss: 0.0024 - flatten_5_loss: 0.2218 - val_loss: 0.2378 - val_flatten_4_loss: 0.0129 - val_flatten_5_loss: 0.2249\n",
      "Epoch 10/10\n",
      "1250/1250 [==============================] - 30s 24ms/step - loss: 0.2233 - flatten_4_loss: 0.0023 - flatten_5_loss: 0.2209 - val_loss: 0.2294 - val_flatten_4_loss: 0.0066 - val_flatten_5_loss: 0.2227\n"
     ]
    },
    {
     "data": {
      "text/plain": [
       "<keras.callbacks.History at 0x2d8b241f0>"
      ]
     },
     "execution_count": 89,
     "metadata": {},
     "output_type": "execute_result"
    }
   ],
   "source": [
    "model.fit(x_train[range(0,x_train.shape[0],1)],[y_train[range(0,x_train.shape[0],1)].squeeze(),y_train_locs[range(0,x_train.shape[0],1)]],validation_data=(x_test,[y_test,y_test_locs]),epochs = 10,verbose = 1,shuffle = True,batch_size=64)"
   ]
  },
  {
   "cell_type": "code",
   "execution_count": null,
   "metadata": {},
   "outputs": [
    {
     "name": "stdout",
     "output_type": "stream",
     "text": [
      "125/125 [==============================] - 0s 3ms/step - loss: 0.0253 - flatten_4_loss: 0.0157 - flatten_5_loss: 0.0095\n",
      "500/500 [==============================] - 1s 3ms/step - loss: 0.0145 - flatten_4_loss: 0.0043 - flatten_5_loss: 0.0102\n"
     ]
    },
    {
     "data": {
      "text/plain": [
       "[0.014516952447593212, 0.004298131447285414, 0.010218823328614235]"
      ]
     },
     "execution_count": 89,
     "metadata": {},
     "output_type": "execute_result"
    }
   ],
   "source": [
    "model.evaluate(x_test[:4000],[y_test[:4000],y_test_locs[:4000]])\n",
    "model.evaluate(x_test[4000:],[y_test[4000:],y_test_locs[4000:]])"
   ]
  },
  {
   "cell_type": "code",
   "execution_count": null,
   "metadata": {},
   "outputs": [],
   "source": []
  },
  {
   "cell_type": "code",
   "execution_count": 232,
   "metadata": {},
   "outputs": [],
   "source": [
    "from keras import backend as K\n",
    "K.set_value(model.optimizer.learning_rate, 1e-4)"
   ]
  },
  {
   "cell_type": "code",
   "execution_count": 98,
   "metadata": {},
   "outputs": [
    {
     "name": "stdout",
     "output_type": "stream",
     "text": [
      "INFO:tensorflow:Assets written to: models/classification_model/assets\n"
     ]
    }
   ],
   "source": [
    "model.save(\"models/classification_model\")"
   ]
  },
  {
   "cell_type": "code",
   "execution_count": 30,
   "metadata": {},
   "outputs": [],
   "source": [
    "classifications_=model.predict(x_test)"
   ]
  },
  {
   "cell_type": "code",
   "execution_count": 362,
   "metadata": {},
   "outputs": [
    {
     "ename": "IndexError",
     "evalue": "list index out of range",
     "output_type": "error",
     "traceback": [
      "\u001b[0;31m---------------------------------------------------------------------------\u001b[0m",
      "\u001b[0;31mIndexError\u001b[0m                                Traceback (most recent call last)",
      "\u001b[0;32m<ipython-input-362-0e6fc329632f>\u001b[0m in \u001b[0;36m<module>\u001b[0;34m\u001b[0m\n\u001b[1;32m      1\u001b[0m \u001b[0minn\u001b[0m \u001b[0;34m=\u001b[0m \u001b[0mrandom\u001b[0m\u001b[0;34m.\u001b[0m\u001b[0mrandint\u001b[0m\u001b[0;34m(\u001b[0m\u001b[0;36m0\u001b[0m\u001b[0;34m,\u001b[0m\u001b[0mx_test\u001b[0m\u001b[0;34m.\u001b[0m\u001b[0mshape\u001b[0m\u001b[0;34m[\u001b[0m\u001b[0;36m0\u001b[0m\u001b[0;34m]\u001b[0m\u001b[0;34m-\u001b[0m\u001b[0;36m1\u001b[0m\u001b[0;34m)\u001b[0m\u001b[0;34m\u001b[0m\u001b[0;34m\u001b[0m\u001b[0m\n\u001b[0;32m----> 2\u001b[0;31m \u001b[0mprint\u001b[0m\u001b[0;34m(\u001b[0m\u001b[0mclassifications_\u001b[0m\u001b[0;34m[\u001b[0m\u001b[0minn\u001b[0m\u001b[0;34m]\u001b[0m\u001b[0;34m)\u001b[0m\u001b[0;34m\u001b[0m\u001b[0;34m\u001b[0m\u001b[0m\n\u001b[0m\u001b[1;32m      3\u001b[0m \u001b[0mplt\u001b[0m\u001b[0;34m.\u001b[0m\u001b[0mplot\u001b[0m\u001b[0;34m(\u001b[0m\u001b[0mx_test\u001b[0m\u001b[0;34m[\u001b[0m\u001b[0minn\u001b[0m\u001b[0;34m]\u001b[0m\u001b[0;34m)\u001b[0m\u001b[0;34m\u001b[0m\u001b[0;34m\u001b[0m\u001b[0m\n\u001b[1;32m      4\u001b[0m \u001b[0mplt\u001b[0m\u001b[0;34m.\u001b[0m\u001b[0mshow\u001b[0m\u001b[0;34m(\u001b[0m\u001b[0;34m)\u001b[0m\u001b[0;34m\u001b[0m\u001b[0;34m\u001b[0m\u001b[0m\n",
      "\u001b[0;31mIndexError\u001b[0m: list index out of range"
     ]
    }
   ],
   "source": [
    "inn = random.randint(0,x_test.shape[0]-1)\n",
    "print(classifications_[inn])\n",
    "plt.plot(x_test[inn])\n",
    "plt.show()"
   ]
  },
  {
   "cell_type": "code",
   "execution_count": 90,
   "metadata": {},
   "outputs": [
    {
     "name": "stdout",
     "output_type": "stream",
     "text": [
      "107\n"
     ]
    }
   ],
   "source": [
    "list_=np.arange(0,100000,10)\n",
    "print(train_list.shape[0]+list_.shape[0]-np.unique(np.append(train_list,list_)).shape[0])\n",
    "predictions_=model.predict((frames[list_]-0.5)*2)"
   ]
  },
  {
   "cell_type": "code",
   "execution_count": 91,
   "metadata": {},
   "outputs": [
    {
     "data": {
      "text/plain": [
       "((10,), (44,), (6,), (34,))"
      ]
     },
     "execution_count": 91,
     "metadata": {},
     "output_type": "execute_result"
    }
   ],
   "source": [
    "threshold = 0.9\n",
    "u_t=np.where(predictions_[0]>threshold)[0]\n",
    "np.where(predictions_[0][:,0]>threshold)[0].shape,np.where(predictions_[0][:,1]>threshold)[0].shape,np.where(predictions_[0][:,2]>threshold)[0].shape,np.where(predictions_[0][:,3]>threshold)[0].shape"
   ]
  },
  {
   "cell_type": "code",
   "execution_count": 92,
   "metadata": {},
   "outputs": [
    {
     "name": "stdout",
     "output_type": "stream",
     "text": [
      "[3.4515734e-12 9.9999982e-01 7.0805145e-10 2.7177724e-16]\n"
     ]
    },
    {
     "data": {
      "image/png": "[encoded data removed]",
      "text/plain": [
       "<Figure size 432x288 with 1 Axes>"
      ]
     },
     "metadata": {
      "needs_background": "light"
     },
     "output_type": "display_data"
    }
   ],
   "source": [
    "inn = random.randint(0,u_t.shape[0]-1)\n",
    "print(predictions_[0][u_t[inn]])\n",
    "#plt.axhline(frames[list_[u_t[inn]],int(predictions_[1][u_t[inn]]*96)],color=\"black\",linewidth = 2)\n",
    "plt.axvline(predictions_[1][u_t[inn],0]*96,color=\"black\",linewidth = 2)\n",
    "plt.axvline((predictions_[1][u_t[inn],0]+predictions_[1][u_t[inn],1])*96,color=\"black\",linewidth = 2)\n",
    "plt.plot(frames[list_[u_t[inn]]])\n",
    "plt.show()"
   ]
  },
  {
   "cell_type": "code",
   "execution_count": null,
   "metadata": {},
   "outputs": [],
   "source": []
  },
  {
   "cell_type": "code",
   "execution_count": 93,
   "metadata": {},
   "outputs": [],
   "source": [
    "input_data = np.load(\"live_test/frames.npy\")\n",
    "input_data = (input_data-0.5)*2"
   ]
  },
  {
   "cell_type": "code",
   "execution_count": 94,
   "metadata": {},
   "outputs": [],
   "source": [
    "classifications = model.predict(input_data)"
   ]
  },
  {
   "cell_type": "code",
   "execution_count": 95,
   "metadata": {},
   "outputs": [
    {
     "data": {
      "text/plain": [
       "((5,), (111,), (28,), (138,))"
      ]
     },
     "execution_count": 95,
     "metadata": {},
     "output_type": "execute_result"
    }
   ],
   "source": [
    "_threshold = 0.9\n",
    "np.where(classifications[0][:,0]>_threshold)[0].shape,np.where(classifications[0][:,1]>_threshold)[0].shape,np.where(classifications[0][:,2]>_threshold)[0].shape,np.where(classifications[0][:,3]>_threshold)[0].shape"
   ]
  },
  {
   "cell_type": "code",
   "execution_count": 97,
   "metadata": {},
   "outputs": [
    {
     "data": {
      "image/png": "[encoded data removed]",
      "text/plain": [
       "<Figure size 432x288 with 1 Axes>"
      ]
     },
     "metadata": {
      "needs_background": "light"
     },
     "output_type": "display_data"
    }
   ],
   "source": [
    "_pat = 3\n",
    "_i_ = np.where(classifications[0][:,_pat]>_threshold)[0]\n",
    "#_rc = np.random.choice(_i)\n",
    "_rc = random.randint(0,_i_.shape[0]-1)\n",
    "plt.plot(input_data[_i_[_rc]])\n",
    "plt.axvline(classifications[1][_i_[_rc],0]*96,color=\"black\",linewidth = 2)\n",
    "plt.axvline((classifications[1][_i_[_rc],0]+classifications[1][_i_[_rc],1])*96,color=\"black\",linewidth = 2)\n",
    "plt.show()"
   ]
  },
  {
   "cell_type": "code",
   "execution_count": null,
   "metadata": {},
   "outputs": [],
   "source": []
  },
  {
   "cell_type": "code",
   "execution_count": null,
   "metadata": {},
   "outputs": [],
   "source": []
  },
  {
   "cell_type": "code",
   "execution_count": null,
   "metadata": {},
   "outputs": [],
   "source": []
  },
  {
   "cell_type": "code",
   "execution_count": null,
   "metadata": {},
   "outputs": [],
   "source": []
  },
  {
   "cell_type": "code",
   "execution_count": null,
   "metadata": {},
   "outputs": [],
   "source": [
    "def create_model():\n",
    "    \n",
    "    i = keras.layers.Input(shape = (96,))\n",
    "    e = keras.layers.Reshape((96,1))(i)\n",
    "    \n",
    "    e = conv_block(_input = e,_filters = 8,_kernel = 3,_pooling = 2)\n",
    "    #  48 \n",
    "\n",
    "    e = conv_block(_input = e,_filters = 16,_kernel = 3,_pooling = 2)\n",
    "    #  24 \n",
    "\n",
    "    e3 = conv_block(_input = e,_filters = 32,_kernel = 3,_pooling = 2)    \n",
    "    #  12 \n",
    "\n",
    "    e2 = conv_block(_input = e3,_filters = 64,_kernel = 3,_pooling = 2)    \n",
    "    #  6 \n",
    "\n",
    "    e1 = conv_block(_input = e2,_filters = 128,_kernel = 3,_pooling = 2)    \n",
    "    #  3 \n",
    "\n",
    "    # e0 = keras.layers.Conv1D(48,kernel_size = 1,activation = \"relu\",padding=\"same\")(e0)\n",
    "    # e0 = keras.layers.Flatten()(e0)\n",
    "\n",
    "    e1 = keras.layers.Conv1D(64,kernel_size = 1,activation = \"relu\",padding=\"same\")(e1)\n",
    "    e1 = keras.layers.Flatten()(e1)\n",
    "\n",
    "    e2 = keras.layers.Conv1D(32,kernel_size = 1,activation=\"relu\",padding=\"same\")(e2)\n",
    "    e2 = keras.layers.Flatten()(e2)\n",
    "\n",
    "    e3 = keras.layers.Conv1D(16,kernel_size = 1,activation=\"relu\",padding=\"same\")(e3)\n",
    "    e3 = keras.layers.Flatten()(e3)\n",
    "\n",
    "    #e0 = tf.expand_dims(e0,axis = -2)\n",
    "    e1 = tf.expand_dims(e1,axis = -2)\n",
    "    e2 = tf.expand_dims(e2,axis=-2)\n",
    "    e3 = tf.expand_dims(e3,axis=-2)\n",
    "\n",
    "    e = keras.layers.Concatenate(axis=-2)([e1,e2,e3])#([e0,e1,e2,e3])\n",
    "\n",
    "    c = keras.layers.LocallyConnected1D(48,kernel_size = 1,activation = \"relu\")(e)\n",
    "    c = keras.layers.BatchNormalization()(c)\n",
    "\n",
    "    c = keras.layers.Conv1D(96,kernel_size = 3,activation = \"relu\")(c)\n",
    "    c = keras.layers.BatchNormalization()(c)\n",
    "    c = keras.layers.Conv1D(48,kernel_size = 1,activation = \"relu\")(c)\n",
    "    c = keras.layers.BatchNormalization()(c)\n",
    "\n",
    "    c = keras.layers.Conv1D(4,kernel_size = 1,activation=\"sigmoid\")(c)\n",
    "    c = keras.layers.Flatten()(c)\n",
    "\n",
    "    d = keras.layers.LocallyConnected1D(48,kernel_size = 1,activation = \"relu\")(e)\n",
    "    d = keras.layers.BatchNormalization()(d)\n",
    "    \n",
    "    d = keras.layers.Conv1D(96,kernel_size = 3,activation = \"relu\")(d)\n",
    "    d = keras.layers.BatchNormalization()(d)\n",
    "    d = keras.layers.Conv1D(48,kernel_size = 1,activation = \"relu\")(d)\n",
    "    d = keras.layers.BatchNormalization()(d)\n",
    "\n",
    "    d = keras.layers.Conv1D(2,kernel_size = 1,activation=\"relu\")(d)\n",
    "    d = keras.layers.Flatten()(d)\n",
    "    \n",
    "    \n",
    "    model = keras.models.Model(inputs = i, outputs = [c,d])\n",
    "    model.compile(loss = [keras.losses.binary_crossentropy,keras.losses.mse],optimizer = keras.optimizers.Adam(1e-3),metrics=[\"accuracy\"])\n",
    "    return model"
   ]
  },
  {
   "cell_type": "code",
   "execution_count": 157,
   "metadata": {},
   "outputs": [],
   "source": [
    "def create_model():\n",
    "    \n",
    "    _input = keras.layers.Input(shape = (96,))\n",
    "    \n",
    "    layers = []\n",
    "    for i in range(16):\n",
    "        d = keras.layers.Dense(3,activation=\"relu\")(_input)\n",
    "        d = keras.layers.BatchNormalization()(d)\n",
    "        d = keras.layers.Dense(3,activation=\"relu\")(d)\n",
    "        d = keras.layers.BatchNormalization()(d)\n",
    "        layers.append(d)\n",
    "\n",
    "    layers2 = []\n",
    "    for i in range(len(layers)):\n",
    "        d = keras.layers.Dense(5,activation=\"relu\")(layers[i])\n",
    "        d = keras.layers.BatchNormalization()(d)\n",
    "        d = keras.layers.Dense(5,activation=\"relu\")(d)\n",
    "        d = keras.layers.BatchNormalization()(d)\n",
    "        layers2.append(d)\n",
    "    \n",
    "    layers3 = []\n",
    "    for i in range(len(layers)):\n",
    "        d = keras.layers.Dense(7,activation=\"relu\")(layers2[i])\n",
    "        d = keras.layers.BatchNormalization()(d)\n",
    "        d = keras.layers.Dense(7,activation=\"relu\")(d)\n",
    "        d = keras.layers.BatchNormalization()(d)\n",
    "        layers3.append(d)\n",
    "\n",
    "    layers4 = []\n",
    "    for i in range(len(layers)):\n",
    "        d = keras.layers.Dense(5,activation=\"relu\")(layers3[i])\n",
    "        d = keras.layers.BatchNormalization()(d)\n",
    "        d = keras.layers.Dense(5,activation=\"relu\")(d)\n",
    "        d = keras.layers.BatchNormalization()(d)\n",
    "        layers4.append(d)\n",
    "    \n",
    "    d = keras.layers.Concatenate()(layers4)\n",
    "    d = keras.layers.Dense(5,activation=\"sigmoid\")(d)\n",
    "    \n",
    "    \n",
    "    model = keras.models.Model(inputs = _input, outputs = d)\n",
    "    model.compile(loss = keras.losses.binary_crossentropy,optimizer = keras.optimizers.Adam(1e-3),metrics=[\"accuracy\"])\n",
    "    return model"
   ]
  },
  {
   "cell_type": "code",
   "execution_count": 158,
   "metadata": {},
   "outputs": [],
   "source": [
    "def create_model():\n",
    "    \n",
    "    i = keras.layers.Input(shape = (96,))\n",
    "    e = keras.layers.Reshape((96,1))(i)\n",
    "    \n",
    "    e = conv_block(_input = e,_filters = 4,_kernel = 3,_pooling = 2)\n",
    "    #  48 x 48 x 16\n",
    "\n",
    "    e = conv_block(_input = e,_filters = 8,_kernel = 3,_pooling = 2)\n",
    "    #  24 x 24 x 32\n",
    "\n",
    "    e3 = conv_block(_input = e,_filters = 16,_kernel = 3,_pooling = 2)    \n",
    "    #  12 x 12 x 64\n",
    "\n",
    "    e2 = conv_block(_input = e3,_filters = 32,_kernel = 3,_pooling = 2)    \n",
    "    #  6 x 6 x 128\n",
    "\n",
    "    e1 = conv_block(_input = e2,_filters = 64,_kernel = 3,_pooling = 2)    \n",
    "    #  3 x 3 x 256\n",
    "    \n",
    "    e1 = keras.layers.Conv1D(32,kernel_size = 1,activation = \"relu\",padding=\"same\")(e1)\n",
    "    e1 = keras.layers.Flatten()(e1)\n",
    "\n",
    "    e2 = keras.layers.Conv1D(16,kernel_size = 1,activation=\"relu\",padding=\"same\")(e2)\n",
    "    e2 = keras.layers.Flatten()(e2)\n",
    "\n",
    "    e3 = keras.layers.Conv1D(8,kernel_size = 1,activation=\"relu\",padding=\"same\")(e3)\n",
    "    e3 = keras.layers.Flatten()(e3)\n",
    "\n",
    "    e1 = tf.expand_dims(e1,axis = -2)\n",
    "    e2 = tf.expand_dims(e2,axis=-2)\n",
    "    e3 = tf.expand_dims(e3,axis=-2)\n",
    "\n",
    "    e = keras.layers.Concatenate(axis=-2)([e1,e2,e3])\n",
    "    e = keras.layers.LocallyConnected1D(96,kernel_size = 1,activation=\"relu\")(e)\n",
    "    e = keras.layers.BatchNormalization()(e)\n",
    "    e = keras.layers.LocallyConnected1D(96,kernel_size = 3,activation=\"relu\")(e)\n",
    "    e = keras.layers.BatchNormalization()(e)\n",
    "    # e = keras.layers.Conv1D(96,kernel_size = 1,activation=\"relu\",padding=\"same\")(e)\n",
    "    # e = keras.layers.BatchNormalization()(e)\n",
    "    e = keras.layers.LocallyConnected1D(5,kernel_size = 1,activation=\"sigmoid\")(e)\n",
    "    e = keras.layers.Flatten()(e)\n",
    "    \n",
    "    \n",
    "    model = keras.models.Model(inputs = i, outputs = e)\n",
    "    model.compile(loss = keras.losses.binary_crossentropy,optimizer = keras.optimizers.Adam(1e-3),metrics=[\"accuracy\"])\n",
    "    return model"
   ]
  },
  {
   "cell_type": "code",
   "execution_count": null,
   "metadata": {},
   "outputs": [],
   "source": [
    "def create_model():\n",
    "    \n",
    "    _input = keras.layers.Input(shape = (96,))\n",
    "    \n",
    "    layers = []\n",
    "    for i in range(8):\n",
    "        d = keras.layers.Dense(3,activation=\"relu\")(_input)\n",
    "        d = keras.layers.BatchNormalization()(d)\n",
    "        d = keras.layers.Dense(3,activation=\"relu\")(d)\n",
    "        d = keras.layers.BatchNormalization()(d)\n",
    "        layers.append(d)\n",
    "\n",
    "    layers2 = []\n",
    "    for i in range(len(layers)*2):\n",
    "        d = keras.layers.Dense(3,activation=\"relu\")(layers[int(i*0.5)])\n",
    "        d = keras.layers.BatchNormalization()(d)\n",
    "        d = keras.layers.Dense(3,activation=\"relu\")(d)\n",
    "        d = keras.layers.BatchNormalization()(d)\n",
    "        layers2.append(d)\n",
    "    \n",
    "    layers3 = []\n",
    "    for i in range(len(layers2)*2):\n",
    "        d = keras.layers.Dense(3,activation=\"relu\")(layers2[int(i*0.5)])\n",
    "        d = keras.layers.BatchNormalization()(d)\n",
    "        d = keras.layers.Dense(3,activation=\"relu\")(d)\n",
    "        d = keras.layers.BatchNormalization()(d)\n",
    "        layers3.append(d)\n",
    "\n",
    "    layers4 = []\n",
    "    for i in range(len(layers3)*2):\n",
    "        d = keras.layers.Dense(4,activation=\"relu\")(layers3[int(i*0.5)])\n",
    "        d = keras.layers.BatchNormalization()(d)\n",
    "        d = keras.layers.Dense(4,activation=\"relu\")(d)\n",
    "        d = keras.layers.BatchNormalization()(d)\n",
    "        layers4.append(d)\n",
    "    \n",
    "    d = keras.layers.Concatenate()(layers4)\n",
    "    d = keras.layers.Dense(5,activation=\"sigmoid\")(d)\n",
    "    \n",
    "    \n",
    "    model = keras.models.Model(inputs = _input, outputs = d)\n",
    "    model.compile(loss = keras.losses.binary_crossentropy,optimizer = keras.optimizers.Adam(1e-4),metrics=[\"accuracy\"])\n",
    "    return model"
   ]
  },
  {
   "cell_type": "code",
   "execution_count": null,
   "metadata": {},
   "outputs": [],
   "source": [
    "def create_model():\n",
    "    \n",
    "    _input = keras.layers.Input(shape = (96,))\n",
    "    \n",
    "    layers = []\n",
    "    for i in range(16):\n",
    "        d = keras.layers.Dense(3,activation=\"relu\")(_input)\n",
    "        d = keras.layers.BatchNormalization()(d)\n",
    "        d = keras.layers.Dense(3,activation=\"relu\")(d)\n",
    "        d = keras.layers.BatchNormalization()(d)\n",
    "        layers.append(d)\n",
    "    \n",
    "    layers2 = []\n",
    "    for i in range(len(layers)*2):\n",
    "        d = keras.layers.Dense(3,activation=\"relu\")(layers[int(i*0.5)])\n",
    "        d = keras.layers.BatchNormalization()(d)\n",
    "        # d = keras.layers.Dense(3,activation=tf.math.sin)(d)\n",
    "        # d = keras.layers.BatchNormalization()(d)\n",
    "        layers2.append(d)\n",
    "\n",
    "    layers3 = []\n",
    "    for i in range(len(layers2)*2):\n",
    "        d = keras.layers.Dense(3,activation=\"relu\")(layers2[int(i*0.5)])\n",
    "        d = keras.layers.BatchNormalization()(d)\n",
    "        # d = keras.layers.Dense(1,activation=tf.math.sin)(d)\n",
    "        # d = keras.layers.BatchNormalization()(d)\n",
    "        layers3.append(d)\n",
    "\n",
    "    layers4 = []\n",
    "    for i in range(len(layers3)*2):\n",
    "        d = keras.layers.Dense(3,activation=\"relu\")(layers3[int(i*0.5)])\n",
    "        d = keras.layers.BatchNormalization()(d)\n",
    "        layers4.append(d)\n",
    "    \n",
    "    layers5 = []\n",
    "    for i in range(len(layers4)*2):\n",
    "        d = keras.layers.Dense(3,activation=\"relu\")(layers4[int(i*0.5)])\n",
    "        d = keras.layers.BatchNormalization()(d)\n",
    "        layers5.append(d)\n",
    "    \n",
    "    layers6 = []\n",
    "    for i in range(len(layers5)*2):\n",
    "        d = keras.layers.Dense(3,activation=\"relu\")(layers5[int(i*0.5)])\n",
    "        d = keras.layers.BatchNormalization()(d)\n",
    "        d = keras.layers.Dense(5,activation=\"sigmoid\")(d)\n",
    "        d = tf.expand_dims(d,axis=-1)\n",
    "        layers6.append(d)\n",
    "    \n",
    "    d = keras.layers.Concatenate()(layers6)\n",
    "    d = keras.layers.GlobalAveragePooling1D(data_format = \"channels_first\")(d)\n",
    "    # d = keras.layers.Concatenate()(layers4)\n",
    "    # d = keras.layers.Flatten()(d)\n",
    "    # # d = keras.layers.Dense(96,activation=\"relu\")(d)\n",
    "    # # d = keras.layers.BatchNormalization()(d)\n",
    "    # # d = keras.layers.Dense(96,activation=\"relu\")(d)\n",
    "    # # d = keras.layers.BatchNormalization()(d)\n",
    "    # d = keras.layers.Dense(5,activation=\"sigmoid\")(d)\n",
    "    \n",
    "    \n",
    "    model = keras.models.Model(inputs = _input, outputs = d)\n",
    "    model.compile(loss = keras.losses.binary_crossentropy,optimizer = keras.optimizers.Adam(1e-3),metrics=[\"accuracy\"])\n",
    "    return model"
   ]
  },
  {
   "cell_type": "code",
   "execution_count": null,
   "metadata": {},
   "outputs": [],
   "source": [
    "e = keras.layers.BatchNormalization()(e)\n",
    "    e = keras.layers.Conv1D(4,kernel_size = 1,activation=\"relu\")(e)\n",
    "    e = keras.layers.BatchNormalization()(e)\n",
    "\n",
    "    c = keras.layers.Conv1D(16,kernel_size = 4,activation=\"relu\")(e)\n",
    "    c = keras.layers.BatchNormalization()(c)\n",
    "    c = keras.layers.Conv1D(4,kernel_size = 1,activation=\"sigmoid\")(c)\n",
    "    c = keras.layers.Flatten()(c)\n",
    "\n",
    "    d = keras.layers.Conv1D(16,kernel_size = 4,activation=\"relu\")(e)\n",
    "    d = keras.layers.BatchNormalization()(d)\n",
    "    d = keras.layers.Conv1D(1,kernel_size = 1,activation=\"relu\")(d)\n",
    "    d = keras.layers.Flatten()(d)"
   ]
  },
  {
   "cell_type": "code",
   "execution_count": null,
   "metadata": {},
   "outputs": [],
   "source": [
    "def create_model():\n",
    "    \n",
    "    i = keras.layers.Input(shape = (96,))\n",
    "    e = keras.layers.Reshape((96,1))(i)\n",
    "    \n",
    "    e = conv_block(_input = e,_filters = 4,_kernel = 3,_pooling = 2)\n",
    "    #  48 \n",
    "\n",
    "    e = conv_block(_input = e,_filters = 8,_kernel = 3,_pooling = 2)\n",
    "    #  24 \n",
    "\n",
    "    e3 = conv_block(_input = e,_filters = 16,_kernel = 3,_pooling = 2)    \n",
    "    #  12 \n",
    "\n",
    "    e2 = conv_block(_input = e3,_filters = 32,_kernel = 3,_pooling = 2)    \n",
    "    #  6 \n",
    "\n",
    "    e1 = conv_block(_input = e2,_filters = 64,_kernel = 3,_pooling = 2)    \n",
    "    #  3 \n",
    "\n",
    "    e1 = keras.layers.Conv1D(32,kernel_size = 1,activation = \"relu\",padding=\"same\")(e1)\n",
    "    e1 = keras.layers.Flatten()(e1)\n",
    "\n",
    "    e2 = keras.layers.Conv1D(16,kernel_size = 1,activation=\"relu\",padding=\"same\")(e2)\n",
    "    e2 = keras.layers.Flatten()(e2)\n",
    "\n",
    "    e3 = keras.layers.Conv1D(8,kernel_size = 1,activation=\"relu\",padding=\"same\")(e3)\n",
    "    e3 = keras.layers.Flatten()(e3)\n",
    "\n",
    "    e = keras.layers.Add()([e1,e2,e3])\n",
    "\n",
    "    c = keras.layers.Dense(32,activation=\"relu\")(e)\n",
    "    c = keras.layers.BatchNormalization()(c)\n",
    "    c = keras.layers.Dense(32,activation=\"relu\")(c)\n",
    "    c = keras.layers.BatchNormalization()(c)\n",
    "    c = keras.layers.Dense(4,activation=\"sigmoid\")(c)    \n",
    "\n",
    "    d = keras.layers.Dense(32,activation=\"relu\")(e)\n",
    "    d = keras.layers.BatchNormalization()(d)\n",
    "    d = keras.layers.Dense(32,activation=\"relu\")(d)\n",
    "    d = keras.layers.BatchNormalization()(d)\n",
    "    d = keras.layers.Dense(2,activation=\"relu\")(d)    \n",
    "    \n",
    "    \n",
    "    model = keras.models.Model(inputs = i, outputs = [c,d])\n",
    "    model.compile(loss = [keras.losses.binary_crossentropy,keras.losses.mse],optimizer = keras.optimizers.Adam(1e-3),metrics=[\"accuracy\"])\n",
    "    return model"
   ]
  }
 ],
 "metadata": {
  "kernelspec": {
   "display_name": "Python 3.8.8 ('base')",
   "language": "python",
   "name": "python3"
  },
  "language_info": {
   "codemirror_mode": {
    "name": "ipython",
    "version": 3
   },
   "file_extension": ".py",
   "mimetype": "text/x-python",
   "name": "python",
   "nbconvert_exporter": "python",
   "pygments_lexer": "ipython3",
   "version": "3.8.8"
  },
  "orig_nbformat": 4,
  "vscode": {
   "interpreter": {
    "hash": "bd11e0ed8ec2bd2c8e5a42fa306014a91d760c2d42e407c00759fcefdf89854d"
   }
  }
 },
 "nbformat": 4,
 "nbformat_minor": 2
}
